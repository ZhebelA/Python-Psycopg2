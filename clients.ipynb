{
 "cells": [
  {
   "cell_type": "code",
   "execution_count": 1,
   "metadata": {},
   "outputs": [],
   "source": [
    "import psycopg2"
   ]
  },
  {
   "cell_type": "code",
   "execution_count": 2,
   "metadata": {},
   "outputs": [],
   "source": [
    "db_name = ''\n",
    "user_name = ''\n",
    "passw = ''\n",
    "conn = psycopg2.connect(database = db_name, user = user_name, password = passw) \n",
    "cur = conn.cursor()"
   ]
  },
  {
   "cell_type": "code",
   "execution_count": 3,
   "metadata": {},
   "outputs": [],
   "source": [
    "def creation():\n",
    "    cur.execute(\"\"\"\n",
    "    CREATE TABLE IF NOT EXISTS clients(\n",
    "        id SERIAL PRIMARY KEY,\n",
    "        name VARCHAR (20) NOT NULL,\n",
    "        surname VARCHAR (30),\n",
    "        email VARCHAR(20) UNIQUE\n",
    "    );\n",
    "    CREATE TABLE IF NOT EXISTS phone_numbers(\n",
    "        ph_id SERIAL PRIMARY KEY,\n",
    "        client_id INTEGER REFERENCES clients(id),\n",
    "        number INTEGER UNIQUE\n",
    "    );\n",
    "    \"\"\")\n",
    "    conn.commit()"
   ]
  },
  {
   "cell_type": "code",
   "execution_count": 4,
   "metadata": {},
   "outputs": [],
   "source": [
    "def new_client(cl_name, cl_surname, cl_email):\n",
    "        cur.execute(\"\"\"\n",
    "        INSERT INTO clients(name,surname,email) VALUES (%s, %s, %s);\n",
    "        \"\"\", (cl_name, cl_surname, cl_email))\n",
    "        conn.commit()"
   ]
  },
  {
   "cell_type": "code",
   "execution_count": 5,
   "metadata": {},
   "outputs": [],
   "source": [
    "def phone(cl_id, num):\n",
    "    cur.execute(\"\"\"\n",
    "    INSERT INTO phone_numbers(client_id, number) VALUES (%s, %s);\n",
    "    \"\"\", (cl_id, num))\n",
    "    conn.commit()"
   ]
  },
  {
   "cell_type": "code",
   "execution_count": 6,
   "metadata": {},
   "outputs": [],
   "source": [
    "def edit(client_id, column, value):\n",
    "    cur.execute(f\"\"\"\n",
    "    UPDATE clients SET {column}=%s WHERE id=%s;\n",
    "    \"\"\", (value, client_id))\n",
    "    conn.commit()"
   ]
  },
  {
   "cell_type": "code",
   "execution_count": 7,
   "metadata": {},
   "outputs": [],
   "source": [
    "def del_phone(cl_id, num):\n",
    "    cur.execute(f\"\"\"\n",
    "    DELETE FROM phone_numbers WHERE client_id=%s AND number=%s;\n",
    "    \"\"\", (cl_id, num))\n",
    "    conn.commit()"
   ]
  },
  {
   "cell_type": "code",
   "execution_count": null,
   "metadata": {},
   "outputs": [],
   "source": [
    "def find(table, column, info):\n",
    "    cur.execute(f\"\"\"\n",
    "    SELECT c.name, c.surname, c.email, ph.number FROM clients c\n",
    "    JOIN phone_numbers ph ON c.id=ph.client_id\n",
    "    WHERE {table}.{column}=%s;\n",
    "    \"\"\", (info))\n",
    "    print(cur.fetchone())"
   ]
  },
  {
   "cell_type": "code",
   "execution_count": null,
   "metadata": {},
   "outputs": [],
   "source": [
    "def del_client(cl_id):\n",
    "    cur.execute(\"\"\"\n",
    "    DELETE FROM phone_numbers WHERE client_id=%s;\n",
    "    DELETE FROM clients WHERE id=%s;\n",
    "    \"\"\", (cl_id, cl_id))\n",
    "    conn.commit()"
   ]
  },
  {
   "cell_type": "code",
   "execution_count": 10,
   "metadata": {},
   "outputs": [],
   "source": [
    "with conn.cursor() as cur:\n",
    "    creation()"
   ]
  },
  {
   "cell_type": "code",
   "execution_count": 11,
   "metadata": {},
   "outputs": [],
   "source": [
    "with conn.cursor() as cur:\n",
    "    new_client(\"Till\", \"Lindemann\", 'till@gmail.com')"
   ]
  },
  {
   "cell_type": "code",
   "execution_count": null,
   "metadata": {},
   "outputs": [],
   "source": [
    "with conn.cursor() as cur:\n",
    "    phone('1', '8903505')"
   ]
  },
  {
   "cell_type": "code",
   "execution_count": null,
   "metadata": {},
   "outputs": [],
   "source": [
    "with conn.cursor() as cur:\n",
    "    edit('1', 'email', 'till-l@gmail.com')"
   ]
  },
  {
   "cell_type": "code",
   "execution_count": null,
   "metadata": {},
   "outputs": [],
   "source": [
    "with conn.cursor() as cur:\n",
    "    del_phone('1', '8903505')"
   ]
  },
  {
   "cell_type": "code",
   "execution_count": null,
   "metadata": {},
   "outputs": [],
   "source": [
    "with conn.cursor() as cur:\n",
    "    find('clients','id', '1')"
   ]
  },
  {
   "cell_type": "code",
   "execution_count": null,
   "metadata": {},
   "outputs": [],
   "source": [
    "with conn.cursor() as cur:\n",
    "    del_client('1')"
   ]
  }
 ],
 "metadata": {
  "kernelspec": {
   "display_name": "Python 3.10.5 64-bit",
   "language": "python",
   "name": "python3"
  },
  "language_info": {
   "codemirror_mode": {
    "name": "ipython",
    "version": 3
   },
   "file_extension": ".py",
   "mimetype": "text/x-python",
   "name": "python",
   "nbconvert_exporter": "python",
   "pygments_lexer": "ipython3",
   "version": "3.10.5"
  },
  "orig_nbformat": 4,
  "vscode": {
   "interpreter": {
    "hash": "a4e1f50763f85646ed7b411ed4bd8a9bd449b85ee12d00e810ba63bd081dddd0"
   }
  }
 },
 "nbformat": 4,
 "nbformat_minor": 2
}
